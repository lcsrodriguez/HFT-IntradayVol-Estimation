{
 "cells": [
  {
   "cell_type": "markdown",
   "id": "e96160f9",
   "metadata": {},
   "source": [
    "# HFT - Intraday volatility estimation from high frequency data\n",
    "\n",
    "\n",
    "**Lucas RODRIGUEZ**\n",
    "\n",
    "*Academic work - October/November/December 2022*"
   ]
  },
  {
   "cell_type": "code",
   "execution_count": 1,
   "id": "d6a888e8",
   "metadata": {
    "ExecuteTime": {
     "end_time": "2022-10-30T21:04:39.917442Z",
     "start_time": "2022-10-30T21:04:39.129803Z"
    }
   },
   "outputs": [],
   "source": [
    "import pandas as pd"
   ]
  },
  {
   "cell_type": "code",
   "execution_count": 3,
   "id": "338b13eb",
   "metadata": {
    "ExecuteTime": {
     "end_time": "2022-10-30T21:05:28.921043Z",
     "start_time": "2022-10-30T21:05:23.726528Z"
    }
   },
   "outputs": [],
   "source": [
    "data_folder = \"data/\"\n",
    "source_filename = data_folder + \"IVE_tickbidask.txt\"\n",
    "\n",
    "df = pd.read_csv(filepath_or_buffer=source_filename)"
   ]
  },
  {
   "cell_type": "code",
   "execution_count": 5,
   "id": "20de715b",
   "metadata": {
    "ExecuteTime": {
     "end_time": "2022-10-30T21:05:51.824097Z",
     "start_time": "2022-10-30T21:05:51.797481Z"
    }
   },
   "outputs": [
    {
     "name": "stdout",
     "output_type": "stream",
     "text": [
      "<class 'pandas.core.frame.DataFrame'>\n",
      "RangeIndex: 10383277 entries, 0 to 10383276\n",
      "Data columns (total 6 columns):\n",
      " #   Column      Dtype  \n",
      "---  ------      -----  \n",
      " 0   09/28/2009  object \n",
      " 1   09:30:00    object \n",
      " 2   50.79       float64\n",
      " 3   50.7        float64\n",
      " 4   50.79.1     float64\n",
      " 5   100         int64  \n",
      "dtypes: float64(3), int64(1), object(2)\n",
      "memory usage: 475.3+ MB\n"
     ]
    }
   ],
   "source": [
    "df.info()"
   ]
  },
  {
   "cell_type": "code",
   "execution_count": 6,
   "id": "6f738d10",
   "metadata": {
    "ExecuteTime": {
     "end_time": "2022-10-30T21:07:17.696921Z",
     "start_time": "2022-10-30T21:07:17.681503Z"
    }
   },
   "outputs": [
    {
     "data": {
      "text/html": [
       "<div>\n",
       "<style scoped>\n",
       "    .dataframe tbody tr th:only-of-type {\n",
       "        vertical-align: middle;\n",
       "    }\n",
       "\n",
       "    .dataframe tbody tr th {\n",
       "        vertical-align: top;\n",
       "    }\n",
       "\n",
       "    .dataframe thead th {\n",
       "        text-align: right;\n",
       "    }\n",
       "</style>\n",
       "<table border=\"1\" class=\"dataframe\">\n",
       "  <thead>\n",
       "    <tr style=\"text-align: right;\">\n",
       "      <th></th>\n",
       "      <th>09/28/2009</th>\n",
       "      <th>09:30:00</th>\n",
       "      <th>50.79</th>\n",
       "      <th>50.7</th>\n",
       "      <th>50.79.1</th>\n",
       "      <th>100</th>\n",
       "    </tr>\n",
       "  </thead>\n",
       "  <tbody>\n",
       "    <tr>\n",
       "      <th>0</th>\n",
       "      <td>09/28/2009</td>\n",
       "      <td>09:30:00</td>\n",
       "      <td>50.71</td>\n",
       "      <td>50.70</td>\n",
       "      <td>50.79</td>\n",
       "      <td>638</td>\n",
       "    </tr>\n",
       "    <tr>\n",
       "      <th>1</th>\n",
       "      <td>09/28/2009</td>\n",
       "      <td>09:31:32</td>\n",
       "      <td>50.75</td>\n",
       "      <td>50.75</td>\n",
       "      <td>50.76</td>\n",
       "      <td>100</td>\n",
       "    </tr>\n",
       "    <tr>\n",
       "      <th>2</th>\n",
       "      <td>09/28/2009</td>\n",
       "      <td>09:31:32</td>\n",
       "      <td>50.75</td>\n",
       "      <td>50.75</td>\n",
       "      <td>50.76</td>\n",
       "      <td>100</td>\n",
       "    </tr>\n",
       "    <tr>\n",
       "      <th>3</th>\n",
       "      <td>09/28/2009</td>\n",
       "      <td>09:31:33</td>\n",
       "      <td>50.75</td>\n",
       "      <td>50.75</td>\n",
       "      <td>50.76</td>\n",
       "      <td>100</td>\n",
       "    </tr>\n",
       "    <tr>\n",
       "      <th>4</th>\n",
       "      <td>09/28/2009</td>\n",
       "      <td>09:31:33</td>\n",
       "      <td>50.75</td>\n",
       "      <td>50.75</td>\n",
       "      <td>50.76</td>\n",
       "      <td>100</td>\n",
       "    </tr>\n",
       "    <tr>\n",
       "      <th>5</th>\n",
       "      <td>09/28/2009</td>\n",
       "      <td>09:31:33</td>\n",
       "      <td>50.75</td>\n",
       "      <td>50.75</td>\n",
       "      <td>50.76</td>\n",
       "      <td>100</td>\n",
       "    </tr>\n",
       "    <tr>\n",
       "      <th>6</th>\n",
       "      <td>09/28/2009</td>\n",
       "      <td>09:31:33</td>\n",
       "      <td>50.75</td>\n",
       "      <td>50.75</td>\n",
       "      <td>50.76</td>\n",
       "      <td>100</td>\n",
       "    </tr>\n",
       "    <tr>\n",
       "      <th>7</th>\n",
       "      <td>09/28/2009</td>\n",
       "      <td>09:31:33</td>\n",
       "      <td>50.75</td>\n",
       "      <td>50.75</td>\n",
       "      <td>50.76</td>\n",
       "      <td>100</td>\n",
       "    </tr>\n",
       "    <tr>\n",
       "      <th>8</th>\n",
       "      <td>09/28/2009</td>\n",
       "      <td>09:31:33</td>\n",
       "      <td>50.75</td>\n",
       "      <td>50.75</td>\n",
       "      <td>50.76</td>\n",
       "      <td>100</td>\n",
       "    </tr>\n",
       "    <tr>\n",
       "      <th>9</th>\n",
       "      <td>09/28/2009</td>\n",
       "      <td>09:31:33</td>\n",
       "      <td>50.75</td>\n",
       "      <td>50.72</td>\n",
       "      <td>50.75</td>\n",
       "      <td>100</td>\n",
       "    </tr>\n",
       "  </tbody>\n",
       "</table>\n",
       "</div>"
      ],
      "text/plain": [
       "   09/28/2009  09:30:00  50.79   50.7  50.79.1  100\n",
       "0  09/28/2009  09:30:00  50.71  50.70    50.79  638\n",
       "1  09/28/2009  09:31:32  50.75  50.75    50.76  100\n",
       "2  09/28/2009  09:31:32  50.75  50.75    50.76  100\n",
       "3  09/28/2009  09:31:33  50.75  50.75    50.76  100\n",
       "4  09/28/2009  09:31:33  50.75  50.75    50.76  100\n",
       "5  09/28/2009  09:31:33  50.75  50.75    50.76  100\n",
       "6  09/28/2009  09:31:33  50.75  50.75    50.76  100\n",
       "7  09/28/2009  09:31:33  50.75  50.75    50.76  100\n",
       "8  09/28/2009  09:31:33  50.75  50.75    50.76  100\n",
       "9  09/28/2009  09:31:33  50.75  50.72    50.75  100"
      ]
     },
     "execution_count": 6,
     "metadata": {},
     "output_type": "execute_result"
    }
   ],
   "source": [
    "df.head(10)"
   ]
  },
  {
   "cell_type": "code",
   "execution_count": null,
   "id": "961c5eb0",
   "metadata": {},
   "outputs": [],
   "source": []
  }
 ],
 "metadata": {
  "kernelspec": {
   "display_name": "Python 3 (ipykernel)",
   "language": "python",
   "name": "python3"
  },
  "language_info": {
   "codemirror_mode": {
    "name": "ipython",
    "version": 3
   },
   "file_extension": ".py",
   "mimetype": "text/x-python",
   "name": "python",
   "nbconvert_exporter": "python",
   "pygments_lexer": "ipython3",
   "version": "3.10.6"
  },
  "toc": {
   "base_numbering": 1,
   "nav_menu": {},
   "number_sections": true,
   "sideBar": true,
   "skip_h1_title": false,
   "title_cell": "Table of Contents",
   "title_sidebar": "Contents",
   "toc_cell": false,
   "toc_position": {},
   "toc_section_display": true,
   "toc_window_display": false
  }
 },
 "nbformat": 4,
 "nbformat_minor": 5
}
