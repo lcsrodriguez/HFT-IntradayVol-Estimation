{
 "cells": [
  {
   "cell_type": "markdown",
   "id": "e96160f9",
   "metadata": {},
   "source": [
    "# HFT - Intraday volatility estimation from high frequency data\n",
    "\n",
    "\n",
    "**Lucas RODRIGUEZ**\n",
    "\n",
    "*Academic work - October/November/December 2022*"
   ]
  },
  {
   "cell_type": "code",
   "execution_count": 20,
   "id": "d6a888e8",
   "metadata": {
    "ExecuteTime": {
     "end_time": "2022-11-04T20:57:50.355066Z",
     "start_time": "2022-11-04T20:57:48.399607Z"
    }
   },
   "outputs": [],
   "source": [
    "import numpy as np\n",
    "import pandas as pd\n",
    "import missingno as msno"
   ]
  },
  {
   "cell_type": "code",
   "execution_count": 7,
   "id": "338b13eb",
   "metadata": {
    "ExecuteTime": {
     "end_time": "2022-11-04T20:44:26.961426Z",
     "start_time": "2022-11-04T20:44:04.047598Z"
    }
   },
   "outputs": [],
   "source": [
    "data_folder = \"data/\"\n",
    "source_filename = data_folder + \"IVE_tickbidask.txt\"\n",
    "\n",
    "columns_name = [\"Date\", \"Time\", \"Price\", \"Bid\", \"Ask\", \"Size\"]\n",
    "df = pd.read_csv(filepath_or_buffer=source_filename,\n",
    "                names=columns_name,\n",
    "                decimal=\".\",\n",
    "                parse_dates={'dt' : ['Date', 'Time']}, \n",
    "                infer_datetime_format=True, \n",
    "                low_memory=False, \n",
    "                index_col='dt')"
   ]
  },
  {
   "cell_type": "code",
   "execution_count": 8,
   "id": "20de715b",
   "metadata": {
    "ExecuteTime": {
     "end_time": "2022-11-04T20:44:29.103200Z",
     "start_time": "2022-11-04T20:44:29.011383Z"
    }
   },
   "outputs": [
    {
     "name": "stdout",
     "output_type": "stream",
     "text": [
      "<class 'pandas.core.frame.DataFrame'>\n",
      "DatetimeIndex: 10383278 entries, 2009-09-28 09:30:00 to 2022-10-28 16:00:00\n",
      "Data columns (total 4 columns):\n",
      " #   Column  Dtype  \n",
      "---  ------  -----  \n",
      " 0   Price   float64\n",
      " 1   Bid     float64\n",
      " 2   Ask     float64\n",
      " 3   Size    int64  \n",
      "dtypes: float64(3), int64(1)\n",
      "memory usage: 396.1 MB\n"
     ]
    }
   ],
   "source": [
    "df.info()"
   ]
  },
  {
   "cell_type": "code",
   "execution_count": 23,
   "id": "6f738d10",
   "metadata": {
    "ExecuteTime": {
     "end_time": "2022-11-04T20:58:57.660815Z",
     "start_time": "2022-11-04T20:58:57.652856Z"
    }
   },
   "outputs": [
    {
     "data": {
      "text/html": [
       "<div>\n",
       "<style scoped>\n",
       "    .dataframe tbody tr th:only-of-type {\n",
       "        vertical-align: middle;\n",
       "    }\n",
       "\n",
       "    .dataframe tbody tr th {\n",
       "        vertical-align: top;\n",
       "    }\n",
       "\n",
       "    .dataframe thead th {\n",
       "        text-align: right;\n",
       "    }\n",
       "</style>\n",
       "<table border=\"1\" class=\"dataframe\">\n",
       "  <thead>\n",
       "    <tr style=\"text-align: right;\">\n",
       "      <th></th>\n",
       "      <th>Price</th>\n",
       "      <th>Bid</th>\n",
       "      <th>Ask</th>\n",
       "      <th>Size</th>\n",
       "    </tr>\n",
       "    <tr>\n",
       "      <th>dt</th>\n",
       "      <th></th>\n",
       "      <th></th>\n",
       "      <th></th>\n",
       "      <th></th>\n",
       "    </tr>\n",
       "  </thead>\n",
       "  <tbody>\n",
       "    <tr>\n",
       "      <th>2009-09-28 09:30:00</th>\n",
       "      <td>50.79</td>\n",
       "      <td>50.70</td>\n",
       "      <td>50.79</td>\n",
       "      <td>100</td>\n",
       "    </tr>\n",
       "    <tr>\n",
       "      <th>2009-09-28 09:30:00</th>\n",
       "      <td>50.71</td>\n",
       "      <td>50.70</td>\n",
       "      <td>50.79</td>\n",
       "      <td>638</td>\n",
       "    </tr>\n",
       "    <tr>\n",
       "      <th>2009-09-28 09:31:32</th>\n",
       "      <td>50.75</td>\n",
       "      <td>50.75</td>\n",
       "      <td>50.76</td>\n",
       "      <td>100</td>\n",
       "    </tr>\n",
       "    <tr>\n",
       "      <th>2009-09-28 09:31:32</th>\n",
       "      <td>50.75</td>\n",
       "      <td>50.75</td>\n",
       "      <td>50.76</td>\n",
       "      <td>100</td>\n",
       "    </tr>\n",
       "    <tr>\n",
       "      <th>2009-09-28 09:31:33</th>\n",
       "      <td>50.75</td>\n",
       "      <td>50.75</td>\n",
       "      <td>50.76</td>\n",
       "      <td>100</td>\n",
       "    </tr>\n",
       "    <tr>\n",
       "      <th>2009-09-28 09:31:33</th>\n",
       "      <td>50.75</td>\n",
       "      <td>50.75</td>\n",
       "      <td>50.76</td>\n",
       "      <td>100</td>\n",
       "    </tr>\n",
       "    <tr>\n",
       "      <th>2009-09-28 09:31:33</th>\n",
       "      <td>50.75</td>\n",
       "      <td>50.75</td>\n",
       "      <td>50.76</td>\n",
       "      <td>100</td>\n",
       "    </tr>\n",
       "    <tr>\n",
       "      <th>2009-09-28 09:31:33</th>\n",
       "      <td>50.75</td>\n",
       "      <td>50.75</td>\n",
       "      <td>50.76</td>\n",
       "      <td>100</td>\n",
       "    </tr>\n",
       "    <tr>\n",
       "      <th>2009-09-28 09:31:33</th>\n",
       "      <td>50.75</td>\n",
       "      <td>50.75</td>\n",
       "      <td>50.76</td>\n",
       "      <td>100</td>\n",
       "    </tr>\n",
       "    <tr>\n",
       "      <th>2009-09-28 09:31:33</th>\n",
       "      <td>50.75</td>\n",
       "      <td>50.75</td>\n",
       "      <td>50.76</td>\n",
       "      <td>100</td>\n",
       "    </tr>\n",
       "  </tbody>\n",
       "</table>\n",
       "</div>"
      ],
      "text/plain": [
       "                     Price    Bid    Ask  Size\n",
       "dt                                            \n",
       "2009-09-28 09:30:00  50.79  50.70  50.79   100\n",
       "2009-09-28 09:30:00  50.71  50.70  50.79   638\n",
       "2009-09-28 09:31:32  50.75  50.75  50.76   100\n",
       "2009-09-28 09:31:32  50.75  50.75  50.76   100\n",
       "2009-09-28 09:31:33  50.75  50.75  50.76   100\n",
       "2009-09-28 09:31:33  50.75  50.75  50.76   100\n",
       "2009-09-28 09:31:33  50.75  50.75  50.76   100\n",
       "2009-09-28 09:31:33  50.75  50.75  50.76   100\n",
       "2009-09-28 09:31:33  50.75  50.75  50.76   100\n",
       "2009-09-28 09:31:33  50.75  50.75  50.76   100"
      ]
     },
     "execution_count": 23,
     "metadata": {},
     "output_type": "execute_result"
    }
   ],
   "source": [
    "df.head(10)"
   ]
  },
  {
   "cell_type": "markdown",
   "id": "95066e0a",
   "metadata": {},
   "source": [
    "**References**:\n",
    "1. https://pandas.pydata.org/pandas-docs/stable/user_guide/timeseries.html#offset-aliases"
   ]
  },
  {
   "cell_type": "code",
   "execution_count": 24,
   "id": "961c5eb0",
   "metadata": {
    "ExecuteTime": {
     "end_time": "2022-11-04T21:02:11.974284Z",
     "start_time": "2022-11-04T21:02:11.642839Z"
    }
   },
   "outputs": [
    {
     "data": {
      "text/html": [
       "<div>\n",
       "<style scoped>\n",
       "    .dataframe tbody tr th:only-of-type {\n",
       "        vertical-align: middle;\n",
       "    }\n",
       "\n",
       "    .dataframe tbody tr th {\n",
       "        vertical-align: top;\n",
       "    }\n",
       "\n",
       "    .dataframe thead th {\n",
       "        text-align: right;\n",
       "    }\n",
       "</style>\n",
       "<table border=\"1\" class=\"dataframe\">\n",
       "  <thead>\n",
       "    <tr style=\"text-align: right;\">\n",
       "      <th></th>\n",
       "      <th>Price</th>\n",
       "      <th>Bid</th>\n",
       "      <th>Ask</th>\n",
       "      <th>Size</th>\n",
       "    </tr>\n",
       "    <tr>\n",
       "      <th>dt</th>\n",
       "      <th></th>\n",
       "      <th></th>\n",
       "      <th></th>\n",
       "      <th></th>\n",
       "    </tr>\n",
       "  </thead>\n",
       "  <tbody>\n",
       "    <tr>\n",
       "      <th>2022-10-27 21:00:00</th>\n",
       "      <td>NaN</td>\n",
       "      <td>NaN</td>\n",
       "      <td>NaN</td>\n",
       "      <td>NaN</td>\n",
       "    </tr>\n",
       "    <tr>\n",
       "      <th>2022-10-27 22:00:00</th>\n",
       "      <td>NaN</td>\n",
       "      <td>NaN</td>\n",
       "      <td>NaN</td>\n",
       "      <td>NaN</td>\n",
       "    </tr>\n",
       "    <tr>\n",
       "      <th>2022-10-27 23:00:00</th>\n",
       "      <td>NaN</td>\n",
       "      <td>NaN</td>\n",
       "      <td>NaN</td>\n",
       "      <td>NaN</td>\n",
       "    </tr>\n",
       "    <tr>\n",
       "      <th>2022-10-28 00:00:00</th>\n",
       "      <td>NaN</td>\n",
       "      <td>NaN</td>\n",
       "      <td>NaN</td>\n",
       "      <td>NaN</td>\n",
       "    </tr>\n",
       "    <tr>\n",
       "      <th>2022-10-28 01:00:00</th>\n",
       "      <td>NaN</td>\n",
       "      <td>NaN</td>\n",
       "      <td>NaN</td>\n",
       "      <td>NaN</td>\n",
       "    </tr>\n",
       "    <tr>\n",
       "      <th>2022-10-28 02:00:00</th>\n",
       "      <td>NaN</td>\n",
       "      <td>NaN</td>\n",
       "      <td>NaN</td>\n",
       "      <td>NaN</td>\n",
       "    </tr>\n",
       "    <tr>\n",
       "      <th>2022-10-28 03:00:00</th>\n",
       "      <td>NaN</td>\n",
       "      <td>NaN</td>\n",
       "      <td>NaN</td>\n",
       "      <td>NaN</td>\n",
       "    </tr>\n",
       "    <tr>\n",
       "      <th>2022-10-28 04:00:00</th>\n",
       "      <td>NaN</td>\n",
       "      <td>NaN</td>\n",
       "      <td>NaN</td>\n",
       "      <td>NaN</td>\n",
       "    </tr>\n",
       "    <tr>\n",
       "      <th>2022-10-28 05:00:00</th>\n",
       "      <td>NaN</td>\n",
       "      <td>NaN</td>\n",
       "      <td>NaN</td>\n",
       "      <td>NaN</td>\n",
       "    </tr>\n",
       "    <tr>\n",
       "      <th>2022-10-28 06:00:00</th>\n",
       "      <td>NaN</td>\n",
       "      <td>NaN</td>\n",
       "      <td>NaN</td>\n",
       "      <td>NaN</td>\n",
       "    </tr>\n",
       "    <tr>\n",
       "      <th>2022-10-28 07:00:00</th>\n",
       "      <td>NaN</td>\n",
       "      <td>NaN</td>\n",
       "      <td>NaN</td>\n",
       "      <td>NaN</td>\n",
       "    </tr>\n",
       "    <tr>\n",
       "      <th>2022-10-28 08:00:00</th>\n",
       "      <td>NaN</td>\n",
       "      <td>NaN</td>\n",
       "      <td>NaN</td>\n",
       "      <td>NaN</td>\n",
       "    </tr>\n",
       "    <tr>\n",
       "      <th>2022-10-28 09:00:00</th>\n",
       "      <td>141.847589</td>\n",
       "      <td>141.830403</td>\n",
       "      <td>141.861128</td>\n",
       "      <td>133.822759</td>\n",
       "    </tr>\n",
       "    <tr>\n",
       "      <th>2022-10-28 10:00:00</th>\n",
       "      <td>142.258300</td>\n",
       "      <td>142.242919</td>\n",
       "      <td>142.273566</td>\n",
       "      <td>134.440355</td>\n",
       "    </tr>\n",
       "    <tr>\n",
       "      <th>2022-10-28 11:00:00</th>\n",
       "      <td>142.810961</td>\n",
       "      <td>142.801352</td>\n",
       "      <td>142.823211</td>\n",
       "      <td>178.216901</td>\n",
       "    </tr>\n",
       "    <tr>\n",
       "      <th>2022-10-28 12:00:00</th>\n",
       "      <td>143.246849</td>\n",
       "      <td>143.236969</td>\n",
       "      <td>143.254921</td>\n",
       "      <td>181.527559</td>\n",
       "    </tr>\n",
       "    <tr>\n",
       "      <th>2022-10-28 13:00:00</th>\n",
       "      <td>143.511457</td>\n",
       "      <td>143.502644</td>\n",
       "      <td>143.517952</td>\n",
       "      <td>155.540755</td>\n",
       "    </tr>\n",
       "    <tr>\n",
       "      <th>2022-10-28 14:00:00</th>\n",
       "      <td>143.571778</td>\n",
       "      <td>143.562730</td>\n",
       "      <td>143.581502</td>\n",
       "      <td>346.160410</td>\n",
       "    </tr>\n",
       "    <tr>\n",
       "      <th>2022-10-28 15:00:00</th>\n",
       "      <td>143.864603</td>\n",
       "      <td>143.856685</td>\n",
       "      <td>143.869812</td>\n",
       "      <td>169.249529</td>\n",
       "    </tr>\n",
       "    <tr>\n",
       "      <th>2022-10-28 16:00:00</th>\n",
       "      <td>143.940000</td>\n",
       "      <td>143.705000</td>\n",
       "      <td>144.085000</td>\n",
       "      <td>189358.000000</td>\n",
       "    </tr>\n",
       "  </tbody>\n",
       "</table>\n",
       "</div>"
      ],
      "text/plain": [
       "                          Price         Bid         Ask           Size\n",
       "dt                                                                    \n",
       "2022-10-27 21:00:00         NaN         NaN         NaN            NaN\n",
       "2022-10-27 22:00:00         NaN         NaN         NaN            NaN\n",
       "2022-10-27 23:00:00         NaN         NaN         NaN            NaN\n",
       "2022-10-28 00:00:00         NaN         NaN         NaN            NaN\n",
       "2022-10-28 01:00:00         NaN         NaN         NaN            NaN\n",
       "2022-10-28 02:00:00         NaN         NaN         NaN            NaN\n",
       "2022-10-28 03:00:00         NaN         NaN         NaN            NaN\n",
       "2022-10-28 04:00:00         NaN         NaN         NaN            NaN\n",
       "2022-10-28 05:00:00         NaN         NaN         NaN            NaN\n",
       "2022-10-28 06:00:00         NaN         NaN         NaN            NaN\n",
       "2022-10-28 07:00:00         NaN         NaN         NaN            NaN\n",
       "2022-10-28 08:00:00         NaN         NaN         NaN            NaN\n",
       "2022-10-28 09:00:00  141.847589  141.830403  141.861128     133.822759\n",
       "2022-10-28 10:00:00  142.258300  142.242919  142.273566     134.440355\n",
       "2022-10-28 11:00:00  142.810961  142.801352  142.823211     178.216901\n",
       "2022-10-28 12:00:00  143.246849  143.236969  143.254921     181.527559\n",
       "2022-10-28 13:00:00  143.511457  143.502644  143.517952     155.540755\n",
       "2022-10-28 14:00:00  143.571778  143.562730  143.581502     346.160410\n",
       "2022-10-28 15:00:00  143.864603  143.856685  143.869812     169.249529\n",
       "2022-10-28 16:00:00  143.940000  143.705000  144.085000  189358.000000"
      ]
     },
     "execution_count": 24,
     "metadata": {},
     "output_type": "execute_result"
    }
   ],
   "source": [
    "df.resample(\"H\").mean().tail(20)"
   ]
  },
  {
   "cell_type": "markdown",
   "id": "c33bc4d1",
   "metadata": {},
   "source": [
    "We can see that a resample method execution can create some NaN\n",
    "\n",
    "\n",
    "The best way to handle them is by dropping the row or by replacing it by a specific value\n",
    "\n",
    "**WARNING**\n",
    "\n",
    "Resample seems to sample on a 24h scale without knowing the trading hours for the given security.\n",
    "\n",
    "\n",
    "We have to remove the lines from non-traded hours, holidays and week-ends.\n",
    "\n",
    "\n",
    "\n",
    "https://stackoverflow.com/questions/44770839/resampling-a-pandas-dataframe-by-business-days-gives-bad-results"
   ]
  },
  {
   "cell_type": "code",
   "execution_count": 21,
   "id": "142ee579",
   "metadata": {
    "ExecuteTime": {
     "end_time": "2022-11-04T20:58:08.513482Z",
     "start_time": "2022-11-04T20:58:06.293130Z"
    }
   },
   "outputs": [
    {
     "data": {
      "image/png": "[encoded data removed]",
      "text/plain": [
       "<Figure size 2500x1000 with 3 Axes>"
      ]
     },
     "metadata": {},
     "output_type": "display_data"
    }
   ],
   "source": [
    "_ = msno.bar(df.resample(\"30S\").mean(), color=\"red\")"
   ]
  },
  {
   "cell_type": "code",
   "execution_count": null,
   "id": "927a284a",
   "metadata": {},
   "outputs": [],
   "source": []
  }
 ],
 "metadata": {
  "kernelspec": {
   "display_name": "Python 3 (ipykernel)",
   "language": "python",
   "name": "python3"
  },
  "language_info": {
   "codemirror_mode": {
    "name": "ipython",
    "version": 3
   },
   "file_extension": ".py",
   "mimetype": "text/x-python",
   "name": "python",
   "nbconvert_exporter": "python",
   "pygments_lexer": "ipython3",
   "version": "3.10.6"
  },
  "toc": {
   "base_numbering": 1,
   "nav_menu": {},
   "number_sections": true,
   "sideBar": true,
   "skip_h1_title": false,
   "title_cell": "Table of Contents",
   "title_sidebar": "Contents",
   "toc_cell": false,
   "toc_position": {},
   "toc_section_display": true,
   "toc_window_display": false
  }
 },
 "nbformat": 4,
 "nbformat_minor": 5
}
