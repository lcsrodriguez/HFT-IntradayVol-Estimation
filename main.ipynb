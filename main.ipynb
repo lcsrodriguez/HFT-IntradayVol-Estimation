{
 "cells": [
  {
   "cell_type": "markdown",
   "id": "e96160f9",
   "metadata": {},
   "source": [
    "# HFT - Intraday volatility estimation from high frequency data\n",
    "\n",
    "\n",
    "**Lucas RODRIGUEZ**\n",
    "\n",
    "*Academic work - October/November/December 2022*"
   ]
  },
  {
   "cell_type": "code",
   "execution_count": 1,
   "id": "d6a888e8",
   "metadata": {
    "ExecuteTime": {
     "end_time": "2022-11-04T20:38:55.932062Z",
     "start_time": "2022-11-04T20:38:55.197087Z"
    }
   },
   "outputs": [],
   "source": [
    "import pandas as pd"
   ]
  },
  {
   "cell_type": "code",
   "execution_count": 7,
   "id": "338b13eb",
   "metadata": {
    "ExecuteTime": {
     "end_time": "2022-11-04T20:44:26.961426Z",
     "start_time": "2022-11-04T20:44:04.047598Z"
    }
   },
   "outputs": [],
   "source": [
    "data_folder = \"data/\"\n",
    "source_filename = data_folder + \"IVE_tickbidask.txt\"\n",
    "\n",
    "columns_name = [\"Date\", \"Time\", \"Price\", \"Bid\", \"Ask\", \"Size\"]\n",
    "df = pd.read_csv(filepath_or_buffer=source_filename,\n",
    "                names=columns_name,\n",
    "                decimal=\".\",\n",
    "                parse_dates={'dt' : ['Date', 'Time']}, \n",
    "                infer_datetime_format=True, \n",
    "                low_memory=False, \n",
    "                index_col='dt')"
   ]
  },
  {
   "cell_type": "code",
   "execution_count": 8,
   "id": "20de715b",
   "metadata": {
    "ExecuteTime": {
     "end_time": "2022-11-04T20:44:29.103200Z",
     "start_time": "2022-11-04T20:44:29.011383Z"
    }
   },
   "outputs": [
    {
     "name": "stdout",
     "output_type": "stream",
     "text": [
      "<class 'pandas.core.frame.DataFrame'>\n",
      "DatetimeIndex: 10383278 entries, 2009-09-28 09:30:00 to 2022-10-28 16:00:00\n",
      "Data columns (total 4 columns):\n",
      " #   Column  Dtype  \n",
      "---  ------  -----  \n",
      " 0   Price   float64\n",
      " 1   Bid     float64\n",
      " 2   Ask     float64\n",
      " 3   Size    int64  \n",
      "dtypes: float64(3), int64(1)\n",
      "memory usage: 396.1 MB\n"
     ]
    }
   ],
   "source": [
    "df.info()"
   ]
  },
  {
   "cell_type": "code",
   "execution_count": 9,
   "id": "6f738d10",
   "metadata": {
    "ExecuteTime": {
     "end_time": "2022-11-04T20:44:39.495397Z",
     "start_time": "2022-11-04T20:44:39.480253Z"
    }
   },
   "outputs": [
    {
     "data": {
      "text/html": [
       "<div>\n",
       "<style scoped>\n",
       "    .dataframe tbody tr th:only-of-type {\n",
       "        vertical-align: middle;\n",
       "    }\n",
       "\n",
       "    .dataframe tbody tr th {\n",
       "        vertical-align: top;\n",
       "    }\n",
       "\n",
       "    .dataframe thead th {\n",
       "        text-align: right;\n",
       "    }\n",
       "</style>\n",
       "<table border=\"1\" class=\"dataframe\">\n",
       "  <thead>\n",
       "    <tr style=\"text-align: right;\">\n",
       "      <th></th>\n",
       "      <th>Price</th>\n",
       "      <th>Bid</th>\n",
       "      <th>Ask</th>\n",
       "      <th>Size</th>\n",
       "    </tr>\n",
       "    <tr>\n",
       "      <th>dt</th>\n",
       "      <th></th>\n",
       "      <th></th>\n",
       "      <th></th>\n",
       "      <th></th>\n",
       "    </tr>\n",
       "  </thead>\n",
       "  <tbody>\n",
       "    <tr>\n",
       "      <th>2009-09-28 09:30:00</th>\n",
       "      <td>50.79</td>\n",
       "      <td>50.70</td>\n",
       "      <td>50.79</td>\n",
       "      <td>100</td>\n",
       "    </tr>\n",
       "    <tr>\n",
       "      <th>2009-09-28 09:30:00</th>\n",
       "      <td>50.71</td>\n",
       "      <td>50.70</td>\n",
       "      <td>50.79</td>\n",
       "      <td>638</td>\n",
       "    </tr>\n",
       "    <tr>\n",
       "      <th>2009-09-28 09:31:32</th>\n",
       "      <td>50.75</td>\n",
       "      <td>50.75</td>\n",
       "      <td>50.76</td>\n",
       "      <td>100</td>\n",
       "    </tr>\n",
       "    <tr>\n",
       "      <th>2009-09-28 09:31:32</th>\n",
       "      <td>50.75</td>\n",
       "      <td>50.75</td>\n",
       "      <td>50.76</td>\n",
       "      <td>100</td>\n",
       "    </tr>\n",
       "    <tr>\n",
       "      <th>2009-09-28 09:31:33</th>\n",
       "      <td>50.75</td>\n",
       "      <td>50.75</td>\n",
       "      <td>50.76</td>\n",
       "      <td>100</td>\n",
       "    </tr>\n",
       "    <tr>\n",
       "      <th>2009-09-28 09:31:33</th>\n",
       "      <td>50.75</td>\n",
       "      <td>50.75</td>\n",
       "      <td>50.76</td>\n",
       "      <td>100</td>\n",
       "    </tr>\n",
       "    <tr>\n",
       "      <th>2009-09-28 09:31:33</th>\n",
       "      <td>50.75</td>\n",
       "      <td>50.75</td>\n",
       "      <td>50.76</td>\n",
       "      <td>100</td>\n",
       "    </tr>\n",
       "    <tr>\n",
       "      <th>2009-09-28 09:31:33</th>\n",
       "      <td>50.75</td>\n",
       "      <td>50.75</td>\n",
       "      <td>50.76</td>\n",
       "      <td>100</td>\n",
       "    </tr>\n",
       "    <tr>\n",
       "      <th>2009-09-28 09:31:33</th>\n",
       "      <td>50.75</td>\n",
       "      <td>50.75</td>\n",
       "      <td>50.76</td>\n",
       "      <td>100</td>\n",
       "    </tr>\n",
       "    <tr>\n",
       "      <th>2009-09-28 09:31:33</th>\n",
       "      <td>50.75</td>\n",
       "      <td>50.75</td>\n",
       "      <td>50.76</td>\n",
       "      <td>100</td>\n",
       "    </tr>\n",
       "  </tbody>\n",
       "</table>\n",
       "</div>"
      ],
      "text/plain": [
       "                     Price    Bid    Ask  Size\n",
       "dt                                            \n",
       "2009-09-28 09:30:00  50.79  50.70  50.79   100\n",
       "2009-09-28 09:30:00  50.71  50.70  50.79   638\n",
       "2009-09-28 09:31:32  50.75  50.75  50.76   100\n",
       "2009-09-28 09:31:32  50.75  50.75  50.76   100\n",
       "2009-09-28 09:31:33  50.75  50.75  50.76   100\n",
       "2009-09-28 09:31:33  50.75  50.75  50.76   100\n",
       "2009-09-28 09:31:33  50.75  50.75  50.76   100\n",
       "2009-09-28 09:31:33  50.75  50.75  50.76   100\n",
       "2009-09-28 09:31:33  50.75  50.75  50.76   100\n",
       "2009-09-28 09:31:33  50.75  50.75  50.76   100"
      ]
     },
     "execution_count": 9,
     "metadata": {},
     "output_type": "execute_result"
    }
   ],
   "source": [
    "df.head(10)"
   ]
  },
  {
   "cell_type": "code",
   "execution_count": 12,
   "id": "961c5eb0",
   "metadata": {
    "ExecuteTime": {
     "end_time": "2022-11-04T20:45:37.565047Z",
     "start_time": "2022-11-04T20:45:35.773981Z"
    }
   },
   "outputs": [
    {
     "data": {
      "text/html": [
       "<div>\n",
       "<style scoped>\n",
       "    .dataframe tbody tr th:only-of-type {\n",
       "        vertical-align: middle;\n",
       "    }\n",
       "\n",
       "    .dataframe tbody tr th {\n",
       "        vertical-align: top;\n",
       "    }\n",
       "\n",
       "    .dataframe thead th {\n",
       "        text-align: right;\n",
       "    }\n",
       "</style>\n",
       "<table border=\"1\" class=\"dataframe\">\n",
       "  <thead>\n",
       "    <tr style=\"text-align: right;\">\n",
       "      <th></th>\n",
       "      <th>Price</th>\n",
       "      <th>Bid</th>\n",
       "      <th>Ask</th>\n",
       "      <th>Size</th>\n",
       "    </tr>\n",
       "    <tr>\n",
       "      <th>dt</th>\n",
       "      <th></th>\n",
       "      <th></th>\n",
       "      <th></th>\n",
       "      <th></th>\n",
       "    </tr>\n",
       "  </thead>\n",
       "  <tbody>\n",
       "    <tr>\n",
       "      <th>2009-09-28 09:30:00</th>\n",
       "      <td>50.750000</td>\n",
       "      <td>50.700000</td>\n",
       "      <td>50.790000</td>\n",
       "      <td>369.000000</td>\n",
       "    </tr>\n",
       "    <tr>\n",
       "      <th>2009-09-28 09:30:30</th>\n",
       "      <td>NaN</td>\n",
       "      <td>NaN</td>\n",
       "      <td>NaN</td>\n",
       "      <td>NaN</td>\n",
       "    </tr>\n",
       "    <tr>\n",
       "      <th>2009-09-28 09:31:00</th>\n",
       "      <td>NaN</td>\n",
       "      <td>NaN</td>\n",
       "      <td>NaN</td>\n",
       "      <td>NaN</td>\n",
       "    </tr>\n",
       "    <tr>\n",
       "      <th>2009-09-28 09:31:30</th>\n",
       "      <td>50.750000</td>\n",
       "      <td>50.742500</td>\n",
       "      <td>50.758333</td>\n",
       "      <td>133.333333</td>\n",
       "    </tr>\n",
       "    <tr>\n",
       "      <th>2009-09-28 09:32:00</th>\n",
       "      <td>50.780000</td>\n",
       "      <td>50.760000</td>\n",
       "      <td>50.780000</td>\n",
       "      <td>300.000000</td>\n",
       "    </tr>\n",
       "    <tr>\n",
       "      <th>...</th>\n",
       "      <td>...</td>\n",
       "      <td>...</td>\n",
       "      <td>...</td>\n",
       "      <td>...</td>\n",
       "    </tr>\n",
       "    <tr>\n",
       "      <th>2022-10-28 15:58:00</th>\n",
       "      <td>143.812692</td>\n",
       "      <td>143.803791</td>\n",
       "      <td>143.813352</td>\n",
       "      <td>155.296703</td>\n",
       "    </tr>\n",
       "    <tr>\n",
       "      <th>2022-10-28 15:58:30</th>\n",
       "      <td>143.812031</td>\n",
       "      <td>143.803594</td>\n",
       "      <td>143.817969</td>\n",
       "      <td>152.984375</td>\n",
       "    </tr>\n",
       "    <tr>\n",
       "      <th>2022-10-28 15:59:00</th>\n",
       "      <td>143.893206</td>\n",
       "      <td>143.885115</td>\n",
       "      <td>143.896870</td>\n",
       "      <td>236.488550</td>\n",
       "    </tr>\n",
       "    <tr>\n",
       "      <th>2022-10-28 15:59:30</th>\n",
       "      <td>143.957911</td>\n",
       "      <td>143.949247</td>\n",
       "      <td>143.961986</td>\n",
       "      <td>192.917808</td>\n",
       "    </tr>\n",
       "    <tr>\n",
       "      <th>2022-10-28 16:00:00</th>\n",
       "      <td>143.940000</td>\n",
       "      <td>143.705000</td>\n",
       "      <td>144.085000</td>\n",
       "      <td>189358.000000</td>\n",
       "    </tr>\n",
       "  </tbody>\n",
       "</table>\n",
       "<p>13761421 rows × 4 columns</p>\n",
       "</div>"
      ],
      "text/plain": [
       "                          Price         Bid         Ask           Size\n",
       "dt                                                                    \n",
       "2009-09-28 09:30:00   50.750000   50.700000   50.790000     369.000000\n",
       "2009-09-28 09:30:30         NaN         NaN         NaN            NaN\n",
       "2009-09-28 09:31:00         NaN         NaN         NaN            NaN\n",
       "2009-09-28 09:31:30   50.750000   50.742500   50.758333     133.333333\n",
       "2009-09-28 09:32:00   50.780000   50.760000   50.780000     300.000000\n",
       "...                         ...         ...         ...            ...\n",
       "2022-10-28 15:58:00  143.812692  143.803791  143.813352     155.296703\n",
       "2022-10-28 15:58:30  143.812031  143.803594  143.817969     152.984375\n",
       "2022-10-28 15:59:00  143.893206  143.885115  143.896870     236.488550\n",
       "2022-10-28 15:59:30  143.957911  143.949247  143.961986     192.917808\n",
       "2022-10-28 16:00:00  143.940000  143.705000  144.085000  189358.000000\n",
       "\n",
       "[13761421 rows x 4 columns]"
      ]
     },
     "execution_count": 12,
     "metadata": {},
     "output_type": "execute_result"
    }
   ],
   "source": [
    "df.resample(\"30S\").mean()"
   ]
  },
  {
   "cell_type": "code",
   "execution_count": null,
   "id": "7a15308e",
   "metadata": {},
   "outputs": [],
   "source": []
  }
 ],
 "metadata": {
  "kernelspec": {
   "display_name": "Python 3 (ipykernel)",
   "language": "python",
   "name": "python3"
  },
  "language_info": {
   "codemirror_mode": {
    "name": "ipython",
    "version": 3
   },
   "file_extension": ".py",
   "mimetype": "text/x-python",
   "name": "python",
   "nbconvert_exporter": "python",
   "pygments_lexer": "ipython3",
   "version": "3.10.6"
  },
  "toc": {
   "base_numbering": 1,
   "nav_menu": {},
   "number_sections": true,
   "sideBar": true,
   "skip_h1_title": false,
   "title_cell": "Table of Contents",
   "title_sidebar": "Contents",
   "toc_cell": false,
   "toc_position": {},
   "toc_section_display": true,
   "toc_window_display": false
  }
 },
 "nbformat": 4,
 "nbformat_minor": 5
}
