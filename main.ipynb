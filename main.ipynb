{
 "cells": [
  {
   "cell_type": "markdown",
   "id": "e96160f9",
   "metadata": {},
   "source": [
    "# HFT - Intraday volatility estimation from high frequency data\n",
    "\n",
    "\n",
    "**Lucas RODRIGUEZ**\n",
    "\n",
    "*Academic work - October/November/December 2022*"
   ]
  },
  {
   "cell_type": "code",
   "execution_count": 68,
   "id": "d6a888e8",
   "metadata": {
    "ExecuteTime": {
     "end_time": "2022-11-27T09:30:50.561292Z",
     "start_time": "2022-11-27T09:30:50.556786Z"
    }
   },
   "outputs": [],
   "source": [
    "import numpy as np\n",
    "import pandas as pd\n",
    "import missingno as msno\n",
    "import matplotlib.pyplot as plt"
   ]
  },
  {
   "cell_type": "code",
   "execution_count": 69,
   "id": "338b13eb",
   "metadata": {
    "ExecuteTime": {
     "end_time": "2022-11-27T09:31:12.224817Z",
     "start_time": "2022-11-27T09:30:50.842304Z"
    }
   },
   "outputs": [],
   "source": [
    "# Filename & respective folder\n",
    "data_folder = \"data/\"\n",
    "source_filename = data_folder + \"IVE_tickbidask.txt\"\n",
    "\n",
    "# Defining the columns names (explicit broadcast)\n",
    "columns_name = [\"Date\", \"Time\", \"Price\", \"Bid\", \"Ask\", \"Size\"]\n",
    "\n",
    "# Importing the main dataset\n",
    "df = pd.read_csv(filepath_or_buffer=source_filename,\n",
    "                names=columns_name,\n",
    "                decimal=\".\",\n",
    "                parse_dates={'dt' : ['Date', 'Time']}, \n",
    "                infer_datetime_format=True, \n",
    "                low_memory=False,\n",
    "                index_col='dt')"
   ]
  },
  {
   "cell_type": "code",
   "execution_count": 70,
   "id": "20de715b",
   "metadata": {
    "ExecuteTime": {
     "end_time": "2022-11-27T09:31:12.303249Z",
     "start_time": "2022-11-27T09:31:12.226999Z"
    }
   },
   "outputs": [
    {
     "name": "stdout",
     "output_type": "stream",
     "text": [
      "<class 'pandas.core.frame.DataFrame'>\n",
      "DatetimeIndex: 10383278 entries, 2009-09-28 09:30:00 to 2022-10-28 16:00:00\n",
      "Data columns (total 4 columns):\n",
      " #   Column  Dtype  \n",
      "---  ------  -----  \n",
      " 0   Price   float64\n",
      " 1   Bid     float64\n",
      " 2   Ask     float64\n",
      " 3   Size    int64  \n",
      "dtypes: float64(3), int64(1)\n",
      "memory usage: 396.1 MB\n"
     ]
    }
   ],
   "source": [
    "df.info()"
   ]
  },
  {
   "cell_type": "markdown",
   "id": "e24d7d53",
   "metadata": {},
   "source": [
    "> The order of the fields in the tick files (with bid/ask prices) is: **Date,Time,Price,Bid,Ask,Size**. Our bid/ask prices are recorded whenever a trade occurs and they represent the \"national best bid and offer\" (NBBO) prices across multiple exchanges and ECNs.\n",
    "\n",
    "> For each trade, current best bid/ask values are recorded together with the transaction price and volume. Trade records are not aggregated and all transactions are included in their consecutive order.\n",
    "\n",
    "> The order of fields in our regular tick files **(without bid/ask)** is: **Date,Time,Price,Size**.\n",
    "\n",
    "*Source*: http://www.kibot.com/Support.aspx#tick_data_format"
   ]
  },
  {
   "cell_type": "code",
   "execution_count": 71,
   "id": "6f738d10",
   "metadata": {
    "ExecuteTime": {
     "end_time": "2022-11-27T09:31:20.761997Z",
     "start_time": "2022-11-27T09:31:20.749945Z"
    }
   },
   "outputs": [
    {
     "data": {
      "text/html": [
       "<div>\n",
       "<style scoped>\n",
       "    .dataframe tbody tr th:only-of-type {\n",
       "        vertical-align: middle;\n",
       "    }\n",
       "\n",
       "    .dataframe tbody tr th {\n",
       "        vertical-align: top;\n",
       "    }\n",
       "\n",
       "    .dataframe thead th {\n",
       "        text-align: right;\n",
       "    }\n",
       "</style>\n",
       "<table border=\"1\" class=\"dataframe\">\n",
       "  <thead>\n",
       "    <tr style=\"text-align: right;\">\n",
       "      <th></th>\n",
       "      <th>Price</th>\n",
       "      <th>Bid</th>\n",
       "      <th>Ask</th>\n",
       "      <th>Size</th>\n",
       "    </tr>\n",
       "    <tr>\n",
       "      <th>dt</th>\n",
       "      <th></th>\n",
       "      <th></th>\n",
       "      <th></th>\n",
       "      <th></th>\n",
       "    </tr>\n",
       "  </thead>\n",
       "  <tbody>\n",
       "    <tr>\n",
       "      <th>2009-09-28 09:30:00</th>\n",
       "      <td>50.79</td>\n",
       "      <td>50.70</td>\n",
       "      <td>50.79</td>\n",
       "      <td>100</td>\n",
       "    </tr>\n",
       "    <tr>\n",
       "      <th>2009-09-28 09:30:00</th>\n",
       "      <td>50.71</td>\n",
       "      <td>50.70</td>\n",
       "      <td>50.79</td>\n",
       "      <td>638</td>\n",
       "    </tr>\n",
       "    <tr>\n",
       "      <th>2009-09-28 09:31:32</th>\n",
       "      <td>50.75</td>\n",
       "      <td>50.75</td>\n",
       "      <td>50.76</td>\n",
       "      <td>100</td>\n",
       "    </tr>\n",
       "    <tr>\n",
       "      <th>2009-09-28 09:31:32</th>\n",
       "      <td>50.75</td>\n",
       "      <td>50.75</td>\n",
       "      <td>50.76</td>\n",
       "      <td>100</td>\n",
       "    </tr>\n",
       "    <tr>\n",
       "      <th>2009-09-28 09:31:33</th>\n",
       "      <td>50.75</td>\n",
       "      <td>50.75</td>\n",
       "      <td>50.76</td>\n",
       "      <td>100</td>\n",
       "    </tr>\n",
       "    <tr>\n",
       "      <th>2009-09-28 09:31:33</th>\n",
       "      <td>50.75</td>\n",
       "      <td>50.75</td>\n",
       "      <td>50.76</td>\n",
       "      <td>100</td>\n",
       "    </tr>\n",
       "    <tr>\n",
       "      <th>2009-09-28 09:31:33</th>\n",
       "      <td>50.75</td>\n",
       "      <td>50.75</td>\n",
       "      <td>50.76</td>\n",
       "      <td>100</td>\n",
       "    </tr>\n",
       "    <tr>\n",
       "      <th>2009-09-28 09:31:33</th>\n",
       "      <td>50.75</td>\n",
       "      <td>50.75</td>\n",
       "      <td>50.76</td>\n",
       "      <td>100</td>\n",
       "    </tr>\n",
       "    <tr>\n",
       "      <th>2009-09-28 09:31:33</th>\n",
       "      <td>50.75</td>\n",
       "      <td>50.75</td>\n",
       "      <td>50.76</td>\n",
       "      <td>100</td>\n",
       "    </tr>\n",
       "    <tr>\n",
       "      <th>2009-09-28 09:31:33</th>\n",
       "      <td>50.75</td>\n",
       "      <td>50.75</td>\n",
       "      <td>50.76</td>\n",
       "      <td>100</td>\n",
       "    </tr>\n",
       "  </tbody>\n",
       "</table>\n",
       "</div>"
      ],
      "text/plain": [
       "                     Price    Bid    Ask  Size\n",
       "dt                                            \n",
       "2009-09-28 09:30:00  50.79  50.70  50.79   100\n",
       "2009-09-28 09:30:00  50.71  50.70  50.79   638\n",
       "2009-09-28 09:31:32  50.75  50.75  50.76   100\n",
       "2009-09-28 09:31:32  50.75  50.75  50.76   100\n",
       "2009-09-28 09:31:33  50.75  50.75  50.76   100\n",
       "2009-09-28 09:31:33  50.75  50.75  50.76   100\n",
       "2009-09-28 09:31:33  50.75  50.75  50.76   100\n",
       "2009-09-28 09:31:33  50.75  50.75  50.76   100\n",
       "2009-09-28 09:31:33  50.75  50.75  50.76   100\n",
       "2009-09-28 09:31:33  50.75  50.75  50.76   100"
      ]
     },
     "execution_count": 71,
     "metadata": {},
     "output_type": "execute_result"
    }
   ],
   "source": [
    "df.head(10)"
   ]
  },
  {
   "cell_type": "code",
   "execution_count": 72,
   "id": "7728baa0",
   "metadata": {
    "ExecuteTime": {
     "end_time": "2022-11-27T09:31:22.314517Z",
     "start_time": "2022-11-27T09:31:22.292906Z"
    }
   },
   "outputs": [],
   "source": [
    "# Removing useless columns\n",
    "try: # try-except block in order to catch the thrown exception in case of re-execution \n",
    "    df.drop(['Bid', 'Ask', 'Size'], axis=1, inplace=True)\n",
    "    df.shape\n",
    "except KeyError:\n",
    "    print(\"Columns already removed.\")"
   ]
  },
  {
   "cell_type": "markdown",
   "id": "613d464a",
   "metadata": {},
   "source": [
    "**References**:\n",
    "1. https://pandas.pydata.org/pandas-docs/stable/user_guide/timeseries.html#offset-aliases"
   ]
  },
  {
   "cell_type": "code",
   "execution_count": 73,
   "id": "961c5eb0",
   "metadata": {
    "ExecuteTime": {
     "end_time": "2022-11-27T09:31:24.665415Z",
     "start_time": "2022-11-27T09:31:23.870273Z"
    }
   },
   "outputs": [
    {
     "data": {
      "text/html": [
       "<div>\n",
       "<style scoped>\n",
       "    .dataframe tbody tr th:only-of-type {\n",
       "        vertical-align: middle;\n",
       "    }\n",
       "\n",
       "    .dataframe tbody tr th {\n",
       "        vertical-align: top;\n",
       "    }\n",
       "\n",
       "    .dataframe thead th {\n",
       "        text-align: right;\n",
       "    }\n",
       "</style>\n",
       "<table border=\"1\" class=\"dataframe\">\n",
       "  <thead>\n",
       "    <tr style=\"text-align: right;\">\n",
       "      <th></th>\n",
       "      <th>Price</th>\n",
       "    </tr>\n",
       "    <tr>\n",
       "      <th>dt</th>\n",
       "      <th></th>\n",
       "    </tr>\n",
       "  </thead>\n",
       "  <tbody>\n",
       "    <tr>\n",
       "      <th>2009-09-28 09:00:00</th>\n",
       "      <td>51.048208</td>\n",
       "    </tr>\n",
       "    <tr>\n",
       "      <th>2009-09-28 10:00:00</th>\n",
       "      <td>51.277057</td>\n",
       "    </tr>\n",
       "    <tr>\n",
       "      <th>2009-09-28 11:00:00</th>\n",
       "      <td>51.360257</td>\n",
       "    </tr>\n",
       "    <tr>\n",
       "      <th>2009-09-28 12:00:00</th>\n",
       "      <td>51.460638</td>\n",
       "    </tr>\n",
       "    <tr>\n",
       "      <th>2009-09-28 13:00:00</th>\n",
       "      <td>51.498606</td>\n",
       "    </tr>\n",
       "    <tr>\n",
       "      <th>2009-09-28 14:00:00</th>\n",
       "      <td>51.459281</td>\n",
       "    </tr>\n",
       "    <tr>\n",
       "      <th>2009-09-28 15:00:00</th>\n",
       "      <td>51.453001</td>\n",
       "    </tr>\n",
       "    <tr>\n",
       "      <th>2009-09-28 16:00:00</th>\n",
       "      <td>51.540000</td>\n",
       "    </tr>\n",
       "    <tr>\n",
       "      <th>2009-09-28 17:00:00</th>\n",
       "      <td>NaN</td>\n",
       "    </tr>\n",
       "    <tr>\n",
       "      <th>2009-09-28 18:00:00</th>\n",
       "      <td>NaN</td>\n",
       "    </tr>\n",
       "    <tr>\n",
       "      <th>2009-09-28 19:00:00</th>\n",
       "      <td>NaN</td>\n",
       "    </tr>\n",
       "    <tr>\n",
       "      <th>2009-09-28 20:00:00</th>\n",
       "      <td>NaN</td>\n",
       "    </tr>\n",
       "    <tr>\n",
       "      <th>2009-09-28 21:00:00</th>\n",
       "      <td>NaN</td>\n",
       "    </tr>\n",
       "    <tr>\n",
       "      <th>2009-09-28 22:00:00</th>\n",
       "      <td>NaN</td>\n",
       "    </tr>\n",
       "    <tr>\n",
       "      <th>2009-09-28 23:00:00</th>\n",
       "      <td>NaN</td>\n",
       "    </tr>\n",
       "    <tr>\n",
       "      <th>2009-09-29 00:00:00</th>\n",
       "      <td>NaN</td>\n",
       "    </tr>\n",
       "    <tr>\n",
       "      <th>2009-09-29 01:00:00</th>\n",
       "      <td>NaN</td>\n",
       "    </tr>\n",
       "    <tr>\n",
       "      <th>2009-09-29 02:00:00</th>\n",
       "      <td>NaN</td>\n",
       "    </tr>\n",
       "    <tr>\n",
       "      <th>2009-09-29 03:00:00</th>\n",
       "      <td>NaN</td>\n",
       "    </tr>\n",
       "    <tr>\n",
       "      <th>2009-09-29 04:00:00</th>\n",
       "      <td>NaN</td>\n",
       "    </tr>\n",
       "    <tr>\n",
       "      <th>2009-09-29 05:00:00</th>\n",
       "      <td>NaN</td>\n",
       "    </tr>\n",
       "    <tr>\n",
       "      <th>2009-09-29 06:00:00</th>\n",
       "      <td>NaN</td>\n",
       "    </tr>\n",
       "    <tr>\n",
       "      <th>2009-09-29 07:00:00</th>\n",
       "      <td>NaN</td>\n",
       "    </tr>\n",
       "    <tr>\n",
       "      <th>2009-09-29 08:00:00</th>\n",
       "      <td>NaN</td>\n",
       "    </tr>\n",
       "    <tr>\n",
       "      <th>2009-09-29 09:00:00</th>\n",
       "      <td>51.789508</td>\n",
       "    </tr>\n",
       "  </tbody>\n",
       "</table>\n",
       "</div>"
      ],
      "text/plain": [
       "                         Price\n",
       "dt                            \n",
       "2009-09-28 09:00:00  51.048208\n",
       "2009-09-28 10:00:00  51.277057\n",
       "2009-09-28 11:00:00  51.360257\n",
       "2009-09-28 12:00:00  51.460638\n",
       "2009-09-28 13:00:00  51.498606\n",
       "2009-09-28 14:00:00  51.459281\n",
       "2009-09-28 15:00:00  51.453001\n",
       "2009-09-28 16:00:00  51.540000\n",
       "2009-09-28 17:00:00        NaN\n",
       "2009-09-28 18:00:00        NaN\n",
       "2009-09-28 19:00:00        NaN\n",
       "2009-09-28 20:00:00        NaN\n",
       "2009-09-28 21:00:00        NaN\n",
       "2009-09-28 22:00:00        NaN\n",
       "2009-09-28 23:00:00        NaN\n",
       "2009-09-29 00:00:00        NaN\n",
       "2009-09-29 01:00:00        NaN\n",
       "2009-09-29 02:00:00        NaN\n",
       "2009-09-29 03:00:00        NaN\n",
       "2009-09-29 04:00:00        NaN\n",
       "2009-09-29 05:00:00        NaN\n",
       "2009-09-29 06:00:00        NaN\n",
       "2009-09-29 07:00:00        NaN\n",
       "2009-09-29 08:00:00        NaN\n",
       "2009-09-29 09:00:00  51.789508"
      ]
     },
     "execution_count": 73,
     "metadata": {},
     "output_type": "execute_result"
    }
   ],
   "source": [
    "df.resample(\"H\").mean().head(25)"
   ]
  },
  {
   "cell_type": "markdown",
   "id": "2af648ab",
   "metadata": {},
   "source": [
    "**Remark**: We can observe that the resampling operation creates a lot of NaN values, which corresponds to non-traded hours in our case. For these time slots, there is no existing records in the initial dataset, that's why the called aggregation method returns a NaN value.\n",
    "\n",
    "We have to deal with these NaN values in order to successfully answer the given issue.\n",
    "\n",
    "$\\longrightarrow$ The best way to handle them is by:\n",
    "1. **dropping the NaN rows** \n",
    "2. or by **replacing them by a specific value**\n",
    "\n",
    "\n",
    "\n",
    "Since option 2 is not a relevant and reliable solution; it's non-sense to replace NaN values by any statistical indicator, since there is no market activity during these hours.\n",
    "\n",
    "$\\longrightarrow$ We choose to remove those elements.\n",
    "\n",
    "**Reference**:\n",
    "1. https://stackoverflow.com/questions/44770839/resampling-a-pandas-dataframe-by-business-days-gives-bad-results\n",
    "2. https://pandas.pydata.org/pandas-docs/stable/user_guide/timeseries.html#offset-aliases\n",
    "3. https://pandas.pydata.org/pandas-docs/stable/user_guide/timeseries.html#anchored-offset-semantics\n",
    "4. https://stackoverflow.com/questions/44770839/resampling-a-pandas-dataframe-by-business-days-gives-bad-results"
   ]
  },
  {
   "cell_type": "code",
   "execution_count": 74,
   "id": "61de0ae1",
   "metadata": {
    "ExecuteTime": {
     "end_time": "2022-11-27T09:31:28.822186Z",
     "start_time": "2022-11-27T09:31:28.419015Z"
    }
   },
   "outputs": [
    {
     "data": {
      "image/png": "[encoded data removed]",
      "text/plain": [
       "<Figure size 2500x1000 with 3 Axes>"
      ]
     },
     "metadata": {},
     "output_type": "display_data"
    }
   ],
   "source": [
    "_ = msno.bar(df.resample(\"D\").mean(), color=\"red\")"
   ]
  },
  {
   "cell_type": "code",
   "execution_count": 76,
   "id": "11e88e8c",
   "metadata": {
    "ExecuteTime": {
     "end_time": "2022-11-27T09:31:31.830980Z",
     "start_time": "2022-11-27T09:31:31.776286Z"
    }
   },
   "outputs": [],
   "source": [
    "df.dropna(inplace=True)"
   ]
  },
  {
   "cell_type": "code",
   "execution_count": 66,
   "id": "8afc1886",
   "metadata": {
    "ExecuteTime": {
     "end_time": "2022-11-27T09:30:43.002246Z",
     "start_time": "2022-11-27T09:30:42.807971Z"
    }
   },
   "outputs": [
    {
     "data": {
      "image/png": "[encoded data removed]",
      "text/plain": [
       "<Figure size 640x480 with 1 Axes>"
      ]
     },
     "metadata": {},
     "output_type": "display_data"
    }
   ],
   "source": [
    "_ = df[\"2018-10-08 00:00:00\" : \"2018-10-09 23:59:59\"].plot()"
   ]
  },
  {
   "cell_type": "code",
   "execution_count": 153,
   "id": "9e342da3",
   "metadata": {
    "ExecuteTime": {
     "end_time": "2022-11-27T09:47:57.371753Z",
     "start_time": "2022-11-27T09:47:57.364572Z"
    }
   },
   "outputs": [
    {
     "data": {
      "text/plain": [
       "['9', '10', '11', '12', '13', '14', '15', '16', '17']"
      ]
     },
     "execution_count": 153,
     "metadata": {},
     "output_type": "execute_result"
    }
   ],
   "source": [
    "HOURS_INDEX = [str(k) for k in list(range(9, 18))]\n",
    "HOURS_INDEX"
   ]
  },
  {
   "cell_type": "code",
   "execution_count": 154,
   "id": "96d95526",
   "metadata": {
    "ExecuteTime": {
     "end_time": "2022-11-27T09:47:57.965381Z",
     "start_time": "2022-11-27T09:47:57.962046Z"
    }
   },
   "outputs": [],
   "source": [
    "start_dt = \"2019-10-10 00:00:00\"\n",
    "end_dt = \"2019-10-10 23:59:00\""
   ]
  },
  {
   "cell_type": "code",
   "execution_count": 159,
   "id": "85b0ced8",
   "metadata": {
    "ExecuteTime": {
     "end_time": "2022-11-27T09:48:26.565585Z",
     "start_time": "2022-11-27T09:48:26.558751Z"
    }
   },
   "outputs": [],
   "source": [
    "def plot_price(start_dt: str = \"2019-10-09 09:00:00\", end_dt: str = \"2019-10-09 17:00:00\") -> None:\n",
    "    \"\"\"\n",
    "    Function returning the plot\n",
    "    \"\"\"\n",
    "    assert start_dt != end_dt\n",
    "    data = df[start_dt : end_dt]\n",
    "    nb_data = len(data)\n",
    "    _ = plt.figure(figsize=(15, 10))\n",
    "\n",
    "    ax = data.plot(rot=35)\n",
    "\n",
    "    t = pd.date_range(start=start_dt,\n",
    "                  end=end_dt,\n",
    "                  periods=9)\n",
    "    _ = ax.set_xticks(t)\n",
    "    ax.set_xticklabels(HOURS_INDEX)"
   ]
  },
  {
   "cell_type": "code",
   "execution_count": 160,
   "id": "89cb6a02",
   "metadata": {
    "ExecuteTime": {
     "end_time": "2022-11-27T09:48:27.039719Z",
     "start_time": "2022-11-27T09:48:26.895825Z"
    }
   },
   "outputs": [
    {
     "data": {
      "text/plain": [
       "<Figure size 1500x1000 with 0 Axes>"
      ]
     },
     "metadata": {},
     "output_type": "display_data"
    },
    {
     "data": {
      "image/png": "[encoded data removed]",
      "text/plain": [
       "<Figure size 640x480 with 1 Axes>"
      ]
     },
     "metadata": {},
     "output_type": "display_data"
    }
   ],
   "source": [
    "plot_price()"
   ]
  },
  {
   "cell_type": "markdown",
   "id": "37c58d29",
   "metadata": {},
   "source": [
    "**Remark**: We can observe that the number of trade operations between two different days is not constant and depends on the market participants."
   ]
  },
  {
   "cell_type": "markdown",
   "id": "d7c90283",
   "metadata": {},
   "source": [
    "---\n",
    "\n",
    "**Lucas RODRIGUEZ**"
   ]
  }
 ],
 "metadata": {
  "kernelspec": {
   "display_name": "Python 3 (ipykernel)",
   "language": "python",
   "name": "python3"
  },
  "language_info": {
   "codemirror_mode": {
    "name": "ipython",
    "version": 3
   },
   "file_extension": ".py",
   "mimetype": "text/x-python",
   "name": "python",
   "nbconvert_exporter": "python",
   "pygments_lexer": "ipython3",
   "version": "3.10.6"
  },
  "toc": {
   "base_numbering": 1,
   "nav_menu": {},
   "number_sections": true,
   "sideBar": true,
   "skip_h1_title": false,
   "title_cell": "Table of Contents",
   "title_sidebar": "Contents",
   "toc_cell": false,
   "toc_position": {},
   "toc_section_display": true,
   "toc_window_display": false
  }
 },
 "nbformat": 4,
 "nbformat_minor": 5
}
